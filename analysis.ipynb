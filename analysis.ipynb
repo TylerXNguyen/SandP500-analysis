{
 "cells": [
  {
   "cell_type": "markdown",
   "id": "0f169b50-ac1d-4176-bedc-7b84852b3c15",
   "metadata": {},
   "source": [
    "# Analysis of Historical S&P prices"
   ]
  },
  {
   "cell_type": "markdown",
   "id": "07381079-4094-44b9-b57a-6b8d4976f529",
   "metadata": {},
   "source": [
    "### Dec 29, 1927 - Present\n",
    "#### https://www.wsj.com/market-data/quotes/index/SPX/historical-prices"
   ]
  },
  {
   "cell_type": "markdown",
   "id": "950ed2c0-cdd1-449f-9a1d-a42aaa2b8260",
   "metadata": {},
   "source": [
    "##### Reading Data"
   ]
  },
  {
   "cell_type": "code",
   "execution_count": 20,
   "id": "74226637-3b3b-4fb7-8198-fbe382de4f43",
   "metadata": {},
   "outputs": [
    {
     "data": {
      "text/html": [
       "<div>\n",
       "<style scoped>\n",
       "    .dataframe tbody tr th:only-of-type {\n",
       "        vertical-align: middle;\n",
       "    }\n",
       "\n",
       "    .dataframe tbody tr th {\n",
       "        vertical-align: top;\n",
       "    }\n",
       "\n",
       "    .dataframe thead th {\n",
       "        text-align: right;\n",
       "    }\n",
       "</style>\n",
       "<table border=\"1\" class=\"dataframe\">\n",
       "  <thead>\n",
       "    <tr style=\"text-align: right;\">\n",
       "      <th></th>\n",
       "      <th>Date</th>\n",
       "      <th>Open</th>\n",
       "      <th>High</th>\n",
       "      <th>Low</th>\n",
       "      <th>Close</th>\n",
       "    </tr>\n",
       "  </thead>\n",
       "  <tbody>\n",
       "    <tr>\n",
       "      <th>0</th>\n",
       "      <td>11/30/22</td>\n",
       "      <td>3957.64</td>\n",
       "      <td>4080.11</td>\n",
       "      <td>3938.58</td>\n",
       "      <td>4080.11</td>\n",
       "    </tr>\n",
       "    <tr>\n",
       "      <th>1</th>\n",
       "      <td>11/29/22</td>\n",
       "      <td>3964.19</td>\n",
       "      <td>3976.77</td>\n",
       "      <td>3937.65</td>\n",
       "      <td>3957.63</td>\n",
       "    </tr>\n",
       "    <tr>\n",
       "      <th>2</th>\n",
       "      <td>11/28/22</td>\n",
       "      <td>4005.36</td>\n",
       "      <td>4012.27</td>\n",
       "      <td>3955.77</td>\n",
       "      <td>3963.94</td>\n",
       "    </tr>\n",
       "    <tr>\n",
       "      <th>3</th>\n",
       "      <td>11/25/22</td>\n",
       "      <td>4023.34</td>\n",
       "      <td>4034.02</td>\n",
       "      <td>4020.76</td>\n",
       "      <td>4026.12</td>\n",
       "    </tr>\n",
       "    <tr>\n",
       "      <th>4</th>\n",
       "      <td>11/23/22</td>\n",
       "      <td>4001.02</td>\n",
       "      <td>4033.78</td>\n",
       "      <td>3998.66</td>\n",
       "      <td>4027.26</td>\n",
       "    </tr>\n",
       "  </tbody>\n",
       "</table>\n",
       "</div>"
      ],
      "text/plain": [
       "       Date     Open     High      Low    Close\n",
       "0  11/30/22  3957.64  4080.11  3938.58  4080.11\n",
       "1  11/29/22  3964.19  3976.77  3937.65  3957.63\n",
       "2  11/28/22  4005.36  4012.27  3955.77  3963.94\n",
       "3  11/25/22  4023.34  4034.02  4020.76  4026.12\n",
       "4  11/23/22  4001.02  4033.78  3998.66  4027.26"
      ]
     },
     "execution_count": 20,
     "metadata": {},
     "output_type": "execute_result"
    }
   ],
   "source": [
    "import pandas as pd\n",
    "df = pd.read_csv('HistoricalPrices.csv')\n",
    "df.head()"
   ]
  },
  {
   "cell_type": "code",
   "execution_count": null,
   "id": "04f9b0fe-ce17-4aeb-84c9-c13b10ce50f0",
   "metadata": {},
   "outputs": [],
   "source": []
  }
 ],
 "metadata": {
  "kernelspec": {
   "display_name": "Python 3 (ipykernel)",
   "language": "python",
   "name": "python3"
  },
  "language_info": {
   "codemirror_mode": {
    "name": "ipython",
    "version": 3
   },
   "file_extension": ".py",
   "mimetype": "text/x-python",
   "name": "python",
   "nbconvert_exporter": "python",
   "pygments_lexer": "ipython3",
   "version": "3.9.13"
  }
 },
 "nbformat": 4,
 "nbformat_minor": 5
}
