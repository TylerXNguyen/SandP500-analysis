{
 "cells": [
  {
   "cell_type": "markdown",
   "id": "0f169b50-ac1d-4176-bedc-7b84852b3c15",
   "metadata": {},
   "source": [
    "# Analysis of Historical S&P prices"
   ]
  },
  {
   "cell_type": "markdown",
   "id": "07381079-4094-44b9-b57a-6b8d4976f529",
   "metadata": {},
   "source": [
    "### Dec 29, 1927 - Present\n",
    "#### https://www.wsj.com/market-data/quotes/index/SPX/historical-prices"
   ]
  },
  {
   "cell_type": "markdown",
   "id": "950ed2c0-cdd1-449f-9a1d-a42aaa2b8260",
   "metadata": {},
   "source": [
    "##### Reading Data"
   ]
  },
  {
   "cell_type": "code",
   "execution_count": 233,
   "id": "74226637-3b3b-4fb7-8198-fbe382de4f43",
   "metadata": {},
   "outputs": [
    {
     "data": {
      "text/html": [
       "<div>\n",
       "<style scoped>\n",
       "    .dataframe tbody tr th:only-of-type {\n",
       "        vertical-align: middle;\n",
       "    }\n",
       "\n",
       "    .dataframe tbody tr th {\n",
       "        vertical-align: top;\n",
       "    }\n",
       "\n",
       "    .dataframe thead th {\n",
       "        text-align: right;\n",
       "    }\n",
       "</style>\n",
       "<table border=\"1\" class=\"dataframe\">\n",
       "  <thead>\n",
       "    <tr style=\"text-align: right;\">\n",
       "      <th></th>\n",
       "      <th>Date</th>\n",
       "      <th>Open</th>\n",
       "      <th>High</th>\n",
       "      <th>Low</th>\n",
       "      <th>Close</th>\n",
       "    </tr>\n",
       "  </thead>\n",
       "  <tbody>\n",
       "    <tr>\n",
       "      <th>0</th>\n",
       "      <td>11/30/22</td>\n",
       "      <td>3957.64</td>\n",
       "      <td>4080.11</td>\n",
       "      <td>3938.58</td>\n",
       "      <td>4080.11</td>\n",
       "    </tr>\n",
       "    <tr>\n",
       "      <th>1</th>\n",
       "      <td>11/29/22</td>\n",
       "      <td>3964.19</td>\n",
       "      <td>3976.77</td>\n",
       "      <td>3937.65</td>\n",
       "      <td>3957.63</td>\n",
       "    </tr>\n",
       "    <tr>\n",
       "      <th>2</th>\n",
       "      <td>11/28/22</td>\n",
       "      <td>4005.36</td>\n",
       "      <td>4012.27</td>\n",
       "      <td>3955.77</td>\n",
       "      <td>3963.94</td>\n",
       "    </tr>\n",
       "    <tr>\n",
       "      <th>3</th>\n",
       "      <td>11/25/22</td>\n",
       "      <td>4023.34</td>\n",
       "      <td>4034.02</td>\n",
       "      <td>4020.76</td>\n",
       "      <td>4026.12</td>\n",
       "    </tr>\n",
       "    <tr>\n",
       "      <th>4</th>\n",
       "      <td>11/23/22</td>\n",
       "      <td>4001.02</td>\n",
       "      <td>4033.78</td>\n",
       "      <td>3998.66</td>\n",
       "      <td>4027.26</td>\n",
       "    </tr>\n",
       "  </tbody>\n",
       "</table>\n",
       "</div>"
      ],
      "text/plain": [
       "       Date     Open     High      Low    Close\n",
       "0  11/30/22  3957.64  4080.11  3938.58  4080.11\n",
       "1  11/29/22  3964.19  3976.77  3937.65  3957.63\n",
       "2  11/28/22  4005.36  4012.27  3955.77  3963.94\n",
       "3  11/25/22  4023.34  4034.02  4020.76  4026.12\n",
       "4  11/23/22  4001.02  4033.78  3998.66  4027.26"
      ]
     },
     "execution_count": 233,
     "metadata": {},
     "output_type": "execute_result"
    }
   ],
   "source": [
    "import pandas as pd\n",
    "\n",
    "df_uncleaned = pd.read_csv('HistoricalPrices.csv')\n",
    "df_uncleaned.head()"
   ]
  },
  {
   "cell_type": "markdown",
   "id": "4cefb777-aecd-450b-83f0-bd2da4f46b6c",
   "metadata": {},
   "source": [
    "#### Cleaning Data"
   ]
  },
  {
   "cell_type": "code",
   "execution_count": 241,
   "id": "04f9b0fe-ce17-4aeb-84c9-c13b10ce50f0",
   "metadata": {},
   "outputs": [
    {
     "data": {
      "text/html": [
       "<div>\n",
       "<style scoped>\n",
       "    .dataframe tbody tr th:only-of-type {\n",
       "        vertical-align: middle;\n",
       "    }\n",
       "\n",
       "    .dataframe tbody tr th {\n",
       "        vertical-align: top;\n",
       "    }\n",
       "\n",
       "    .dataframe thead th {\n",
       "        text-align: right;\n",
       "    }\n",
       "</style>\n",
       "<table border=\"1\" class=\"dataframe\">\n",
       "  <thead>\n",
       "    <tr style=\"text-align: right;\">\n",
       "      <th></th>\n",
       "      <th>Month</th>\n",
       "      <th>Day</th>\n",
       "      <th>Year</th>\n",
       "      <th>Day_Of_Week</th>\n",
       "      <th>Avg_Daily_Cost</th>\n",
       "      <th>Open</th>\n",
       "      <th>High</th>\n",
       "      <th>Low</th>\n",
       "      <th>Close</th>\n",
       "    </tr>\n",
       "  </thead>\n",
       "  <tbody>\n",
       "    <tr>\n",
       "      <th>0</th>\n",
       "      <td>11</td>\n",
       "      <td>30</td>\n",
       "      <td>2022</td>\n",
       "      <td>2</td>\n",
       "      <td>4009.345</td>\n",
       "      <td>3957.64</td>\n",
       "      <td>4080.11</td>\n",
       "      <td>3938.58</td>\n",
       "      <td>4080.11</td>\n",
       "    </tr>\n",
       "    <tr>\n",
       "      <th>1</th>\n",
       "      <td>11</td>\n",
       "      <td>29</td>\n",
       "      <td>2022</td>\n",
       "      <td>1</td>\n",
       "      <td>3957.210</td>\n",
       "      <td>3964.19</td>\n",
       "      <td>3976.77</td>\n",
       "      <td>3937.65</td>\n",
       "      <td>3957.63</td>\n",
       "    </tr>\n",
       "    <tr>\n",
       "      <th>2</th>\n",
       "      <td>11</td>\n",
       "      <td>28</td>\n",
       "      <td>2022</td>\n",
       "      <td>0</td>\n",
       "      <td>3984.020</td>\n",
       "      <td>4005.36</td>\n",
       "      <td>4012.27</td>\n",
       "      <td>3955.77</td>\n",
       "      <td>3963.94</td>\n",
       "    </tr>\n",
       "    <tr>\n",
       "      <th>3</th>\n",
       "      <td>11</td>\n",
       "      <td>25</td>\n",
       "      <td>2022</td>\n",
       "      <td>4</td>\n",
       "      <td>4027.390</td>\n",
       "      <td>4023.34</td>\n",
       "      <td>4034.02</td>\n",
       "      <td>4020.76</td>\n",
       "      <td>4026.12</td>\n",
       "    </tr>\n",
       "    <tr>\n",
       "      <th>4</th>\n",
       "      <td>11</td>\n",
       "      <td>23</td>\n",
       "      <td>2022</td>\n",
       "      <td>2</td>\n",
       "      <td>4016.220</td>\n",
       "      <td>4001.02</td>\n",
       "      <td>4033.78</td>\n",
       "      <td>3998.66</td>\n",
       "      <td>4027.26</td>\n",
       "    </tr>\n",
       "  </tbody>\n",
       "</table>\n",
       "</div>"
      ],
      "text/plain": [
       "   Month  Day  Year  Day_Of_Week  Avg_Daily_Cost     Open     High      Low  \\\n",
       "0     11   30  2022            2        4009.345  3957.64  4080.11  3938.58   \n",
       "1     11   29  2022            1        3957.210  3964.19  3976.77  3937.65   \n",
       "2     11   28  2022            0        3984.020  4005.36  4012.27  3955.77   \n",
       "3     11   25  2022            4        4027.390  4023.34  4034.02  4020.76   \n",
       "4     11   23  2022            2        4016.220  4001.02  4033.78  3998.66   \n",
       "\n",
       "     Close  \n",
       "0  4080.11  \n",
       "1  3957.63  \n",
       "2  3963.94  \n",
       "3  4026.12  \n",
       "4  4027.26  "
      ]
     },
     "execution_count": 241,
     "metadata": {},
     "output_type": "execute_result"
    }
   ],
   "source": [
    "import datetime\n",
    "\n",
    "df = pd.DataFrame({\"Month\": [], \"Day\": [], \"Year\": [], \"Day_Of_Week\": [], \"Avg_Daily_Cost\": []})\n",
    "df_uncleaned.columns = df_uncleaned.columns.str.replace(' ', '') # Clean bad col names\n",
    "for i in range(len(df_uncleaned)):\n",
    "    dt = df_uncleaned[\"Date\"][i]\n",
    "    month, day, year = (int(x) for x in dt.split('/'))\n",
    "    if year < 50 and year >= 10:\n",
    "        year = int(\"20\" + str(year))\n",
    "    elif year < 10 and year > 0:\n",
    "        year = int(\"200\" + str(year))\n",
    "    elif year < 100 and year > 50:\n",
    "        year = int(\"19\" + str(year))\n",
    "    else:\n",
    "        year = 2000\n",
    "    df.loc[i, \"Month\"] = month\n",
    "    df.loc[i, \"Day\"] = day\n",
    "    df.loc[i, \"Year\"] = year\n",
    "    df.loc[i, \"Day_Of_Week\"] = int(datetime.datetime(year, month, day).weekday())\n",
    "    df.loc[i, \"Avg_Daily_Cost\"] = (df_uncleaned.loc[i, \"High\"] + df_uncleaned.loc[i, \"Low\"]) / 2\n",
    "df[\"Month\"] = df[\"Month\"].astype(int)\n",
    "df[\"Day\"] = df[\"Day\"].astype(int)\n",
    "df[\"Year\"] = df[\"Year\"].astype(int)\n",
    "df[\"Day_Of_Week\"] = df[\"Day_Of_Week\"].astype(int)\n",
    "df = pd.concat([df, df_uncleaned.iloc[:, 1:5]], axis = 1)\n",
    "df.head()"
   ]
  },
  {
   "cell_type": "code",
   "execution_count": 259,
   "id": "81cc6000-d4f1-4df6-86df-984ee4adc24d",
   "metadata": {},
   "outputs": [
    {
     "name": "stdout",
     "output_type": "stream",
     "text": [
      "Day_Of_Week\n",
      "0    1136.908479\n",
      "1    1147.630009\n",
      "2    1145.969152\n",
      "3    1145.521672\n",
      "4    1144.809399\n",
      "Name: Avg_Daily_Cost, dtype: float64\n"
     ]
    },
    {
     "data": {
      "text/plain": [
       "Int64Index([0, 1, 2, 3, 4], dtype='int64', name='Day_Of_Week')"
      ]
     },
     "execution_count": 259,
     "metadata": {},
     "output_type": "execute_result"
    }
   ],
   "source": [
    "a = df.groupby(['Day_Of_Week']).mean()[\"Avg_Daily_Cost\"]\n",
    "print(a)\n",
    "a.keys()"
   ]
  },
  {
   "cell_type": "code",
   "execution_count": 281,
   "id": "7ef36265-9b53-4982-84cd-55c3fd45eb96",
   "metadata": {},
   "outputs": [
    {
     "name": "stdout",
     "output_type": "stream",
     "text": [
      "Day_Of_Week\n",
      "0    1136.908479\n",
      "1    1147.630009\n",
      "2    1145.969152\n",
      "3    1145.521672\n",
      "4    1144.809399\n",
      "Name: Avg_Daily_Cost, dtype: float64\n"
     ]
    },
    {
     "data": {
      "image/png": "[encoded data removed]",
      "text/plain": [
       "<Figure size 1000x500 with 1 Axes>"
      ]
     },
     "metadata": {},
     "output_type": "display_data"
    }
   ],
   "source": [
    "import numpy as np\n",
    "import matplotlib.pyplot as plt\n",
    "\n",
    "label = 'Day_Of_Week'\n",
    "a = df.groupby([label]).mean()[\"Avg_Daily_Cost\"]\n",
    "print(a)\n",
    "fig = plt.figure(figsize = (10, 5))\n",
    "plt.bar(a.keys(), a - 1100, width = 0.5)\n",
    " \n",
    "plt.xlabel(label)\n",
    "plt.ylabel(\"Price\" + \" - 1100\")\n",
    "plt.title(\"Difference in Price by \" + label)\n",
    "plt.show()"
   ]
  },
  {
   "cell_type": "code",
   "execution_count": 282,
   "id": "4d930a4e-ee0b-4fac-bc5e-c19b251aab18",
   "metadata": {},
   "outputs": [
    {
     "name": "stdout",
     "output_type": "stream",
     "text": [
      "Month\n",
      "1     1100.615462\n",
      "2     1122.350127\n",
      "3     1122.876942\n",
      "4     1137.321695\n",
      "5     1137.299138\n",
      "6     1146.197066\n",
      "7     1156.576346\n",
      "8     1168.516810\n",
      "9     1164.588206\n",
      "10    1149.710483\n",
      "11    1187.842081\n",
      "12    1135.715527\n",
      "Name: Avg_Daily_Cost, dtype: float64\n"
     ]
    },
    {
     "data": {
      "image/png": "[encoded data removed]",
      "text/plain": [
       "<Figure size 1000x500 with 1 Axes>"
      ]
     },
     "metadata": {},
     "output_type": "display_data"
    }
   ],
   "source": [
    "label = 'Month'\n",
    "a = df.groupby([label]).mean()[\"Avg_Daily_Cost\"]\n",
    "print(a)\n",
    "fig = plt.figure(figsize = (10, 5))\n",
    "plt.bar(a.keys(), a - 1000, width = 0.5)\n",
    "\n",
    "plt.xlabel(label)\n",
    "plt.ylabel(\"Price\" + \" - 1000\")\n",
    "plt.title(\"Difference in Price by \" + label)\n",
    "plt.show()"
   ]
  },
  {
   "cell_type": "code",
   "execution_count": 278,
   "id": "3450ac94-989b-4799-85a7-09b1a903967a",
   "metadata": {},
   "outputs": [
    {
     "name": "stdout",
     "output_type": "stream",
     "text": [
      "Day\n",
      "1     1166.713997\n",
      "2     1135.002772\n",
      "3     1141.725351\n",
      "4     1161.030000\n",
      "5     1129.634932\n",
      "6     1128.348886\n",
      "7     1149.974233\n",
      "8     1155.076364\n",
      "9     1145.253887\n",
      "10    1139.966741\n",
      "11    1149.336029\n",
      "12    1138.034556\n",
      "13    1139.473412\n",
      "14    1148.154528\n",
      "15    1138.773663\n",
      "16    1142.086343\n",
      "17    1141.348710\n",
      "18    1143.473244\n",
      "19    1134.813432\n",
      "20    1129.673995\n",
      "21    1140.165550\n",
      "22    1159.140225\n",
      "23    1142.656082\n",
      "24    1139.338608\n",
      "25    1148.408392\n",
      "26    1143.515192\n",
      "27    1148.231311\n",
      "28    1157.334162\n",
      "29    1157.364714\n",
      "30    1136.640160\n",
      "31    1145.168288\n",
      "Name: Avg_Daily_Cost, dtype: float64\n"
     ]
    },
    {
     "data": {
      "image/png": "[encoded data removed]",
      "text/plain": [
       "<Figure size 1000x500 with 1 Axes>"
      ]
     },
     "metadata": {},
     "output_type": "display_data"
    }
   ],
   "source": [
    "label = 'Day'\n",
    "a = df.groupby([label]).mean()[\"Avg_Daily_Cost\"]\n",
    "print(a)\n",
    "fig = plt.figure(figsize = (10, 5))\n",
    "plt.bar(a.keys(), a - 1000, width = 0.5)\n",
    " \n",
    "plt.xlabel(label)\n",
    "plt.ylabel(\"Price\" + \" - 1000\")\n",
    "plt.title(\"Difference in Price by \" + label)\n",
    "plt.show()"
   ]
  },
  {
   "cell_type": "code",
   "execution_count": 270,
   "id": "f7a0c5e9-b89f-4021-9e1a-7df3eab1c29e",
   "metadata": {},
   "outputs": [
    {
     "name": "stdout",
     "output_type": "stream",
     "text": [
      "Year\n",
      "1978      96.119702\n",
      "1979     102.955079\n",
      "1980     118.687292\n",
      "1981     128.070198\n",
      "1982     119.723379\n",
      "1983     160.414012\n",
      "1984     160.496087\n",
      "1985     186.740139\n",
      "1986     236.207134\n",
      "1987     286.903814\n",
      "1988     265.726443\n",
      "1989     322.801171\n",
      "1990     334.469980\n",
      "1991     375.958913\n",
      "1992     415.555709\n",
      "1993     451.441028\n",
      "1994     460.284147\n",
      "1995     541.221290\n",
      "1996     669.946496\n",
      "1997     872.750178\n",
      "1998    1084.421687\n",
      "1999    1326.330377\n",
      "2000    1427.265258\n",
      "2001    1193.682359\n",
      "2002     993.883968\n",
      "2003     964.632877\n",
      "2004    1130.432143\n",
      "2005    1207.290516\n",
      "2006    1310.040677\n",
      "2007    1476.595458\n",
      "2008    1220.341423\n",
      "2009     947.313571\n",
      "2010    1138.916071\n",
      "2011    1267.221032\n",
      "2012    1378.586460\n",
      "2013    1642.676369\n",
      "2014    1930.564286\n",
      "2015    2060.586310\n",
      "2016    2093.530000\n",
      "2017    2448.097749\n",
      "2018    2746.465339\n",
      "2019    2911.531131\n",
      "2020    3216.334209\n",
      "2021    4271.460139\n",
      "2022    4114.635739\n",
      "Name: Avg_Daily_Cost, dtype: float64\n"
     ]
    },
    {
     "data": {
      "image/png": "[encoded data removed]",
      "text/plain": [
       "<Figure size 1000x500 with 1 Axes>"
      ]
     },
     "metadata": {},
     "output_type": "display_data"
    }
   ],
   "source": [
    "label = 'Year'\n",
    "a = df.groupby([label]).mean()[\"Avg_Daily_Cost\"]\n",
    "print(a)\n",
    "fig = plt.figure(figsize = (10, 5))\n",
    "plt.bar(a.keys(), a, width = 0.5)\n",
    " \n",
    "plt.xlabel(label)\n",
    "plt.ylabel(\"Price\")\n",
    "plt.title(\"Difference in Price by \" + label)\n",
    "plt.show()"
   ]
  }
 ],
 "metadata": {
  "kernelspec": {
   "display_name": "Python 3 (ipykernel)",
   "language": "python",
   "name": "python3"
  },
  "language_info": {
   "codemirror_mode": {
    "name": "ipython",
    "version": 3
   },
   "file_extension": ".py",
   "mimetype": "text/x-python",
   "name": "python",
   "nbconvert_exporter": "python",
   "pygments_lexer": "ipython3",
   "version": "3.9.13"
  }
 },
 "nbformat": 4,
 "nbformat_minor": 5
}
