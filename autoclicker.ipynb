{
 "cells": [
  {
   "cell_type": "code",
   "execution_count": 3,
   "id": "7dd49500-e699-4be2-a884-aa08f260e3d4",
   "metadata": {},
   "outputs": [],
   "source": [
    "import pyautogui\n",
    "import time"
   ]
  },
  {
   "cell_type": "code",
   "execution_count": 14,
   "id": "f1c7a0c7-f7b2-4ec4-9d25-cb297f99cadb",
   "metadata": {},
   "outputs": [],
   "source": [
    "def click(): \n",
    "    #time.sleep(0.000000000000001)     \n",
    "    pyautogui.click()\n",
    "\n",
    "def main():\n",
    "    for i in range(100):#you can set how much times you have to click in range(no. of times to click) \n",
    "        click()\n",
    "\n",
    "main()"
   ]
  }
 ],
 "metadata": {
  "kernelspec": {
   "display_name": "Python 3 (ipykernel)",
   "language": "python",
   "name": "python3"
  },
  "language_info": {
   "codemirror_mode": {
    "name": "ipython",
    "version": 3
   },
   "file_extension": ".py",
   "mimetype": "text/x-python",
   "name": "python",
   "nbconvert_exporter": "python",
   "pygments_lexer": "ipython3",
   "version": "3.9.13"
  }
 },
 "nbformat": 4,
 "nbformat_minor": 5
}
